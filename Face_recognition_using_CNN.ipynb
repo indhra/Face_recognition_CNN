{
 "cells": [
  {
   "cell_type": "markdown",
   "metadata": {},
   "source": [
    "# Introduction"
   ]
  },
  {
   "cell_type": "markdown",
   "metadata": {},
   "source": [
    "* The data set is 13000+ images collected from the web\n",
    "* with each image is manually labelled\n",
    "* Data set is desigend for exploring creating and testing image recognition algorithms\n",
    "* Lets try running an algorithm that can successfully identify faces in the dataset\n",
    "  * after having been trained on similar faces."
   ]
  },
  {
   "cell_type": "markdown",
   "metadata": {},
   "source": [
    "# Libraries"
   ]
  },
  {
   "cell_type": "code",
   "execution_count": 5,
   "metadata": {},
   "outputs": [],
   "source": [
    "import numpy as np\n",
    "import pandas as pd\n",
    "import os \n",
    "import matplotlib.pyplot as plt\n",
    "\n",
    "from mtcnn.mtcnn import MTCNN\n",
    "from PIL import Image\n",
    "from sklearn.datasets import fetch_lfw_people, fetch_lfw_pairs\n",
    "from keras.models import Sequential\n",
    "from keras.layers import Dense, Conv2D, Flatten, MaxPool2D, Dropout"
   ]
  },
  {
   "cell_type": "markdown",
   "metadata": {},
   "source": [
    "# Data loading"
   ]
  },
  {
   "cell_type": "markdown",
   "metadata": {},
   "source": [
    "* dataset source\n",
    "* https://www.kaggle.com/datasets/jessicali9530/lfw-dataset "
   ]
  },
  {
   "cell_type": "code",
   "execution_count": 9,
   "metadata": {},
   "outputs": [
    {
     "data": {
      "text/plain": [
       "['pairs.csv',\n",
       " 'matchpairsDevTest.csv',\n",
       " 'people.csv',\n",
       " 'lfw_readme.csv',\n",
       " 'peopleDevTest.csv',\n",
       " 'mismatchpairsDevTrain.csv',\n",
       " 'lfw-deepfunneled',\n",
       " 'matchpairsDevTrain.csv',\n",
       " 'mismatchpairsDevTest.csv',\n",
       " 'lfw_allnames.csv',\n",
       " 'peopleDevTrain.csv']"
      ]
     },
     "execution_count": 9,
     "metadata": {},
     "output_type": "execute_result"
    }
   ],
   "source": [
    "# Images folder\n",
    "data_folder = './data'\n",
    "os.listdir(data_folder)"
   ]
  },
  {
   "cell_type": "code",
   "execution_count": 23,
   "metadata": {},
   "outputs": [
    {
     "data": {
      "text/html": [
       "<div>\n",
       "<style scoped>\n",
       "    .dataframe tbody tr th:only-of-type {\n",
       "        vertical-align: middle;\n",
       "    }\n",
       "\n",
       "    .dataframe tbody tr th {\n",
       "        vertical-align: top;\n",
       "    }\n",
       "\n",
       "    .dataframe thead th {\n",
       "        text-align: right;\n",
       "    }\n",
       "</style>\n",
       "<table border=\"1\" class=\"dataframe\">\n",
       "  <thead>\n",
       "    <tr style=\"text-align: right;\">\n",
       "      <th></th>\n",
       "      <th>name</th>\n",
       "      <th>imagenum1</th>\n",
       "      <th>imagenum2</th>\n",
       "      <th>Unnamed: 3</th>\n",
       "    </tr>\n",
       "  </thead>\n",
       "  <tbody>\n",
       "    <tr>\n",
       "      <th>0</th>\n",
       "      <td>Abel_Pacheco</td>\n",
       "      <td>1</td>\n",
       "      <td>4</td>\n",
       "      <td>NaN</td>\n",
       "    </tr>\n",
       "    <tr>\n",
       "      <th>1</th>\n",
       "      <td>Akhmed_Zakayev</td>\n",
       "      <td>1</td>\n",
       "      <td>3</td>\n",
       "      <td>NaN</td>\n",
       "    </tr>\n",
       "    <tr>\n",
       "      <th>2</th>\n",
       "      <td>Akhmed_Zakayev</td>\n",
       "      <td>2</td>\n",
       "      <td>3</td>\n",
       "      <td>NaN</td>\n",
       "    </tr>\n",
       "    <tr>\n",
       "      <th>3</th>\n",
       "      <td>Amber_Tamblyn</td>\n",
       "      <td>1</td>\n",
       "      <td>2</td>\n",
       "      <td>NaN</td>\n",
       "    </tr>\n",
       "    <tr>\n",
       "      <th>4</th>\n",
       "      <td>Anders_Fogh_Rasmussen</td>\n",
       "      <td>1</td>\n",
       "      <td>3</td>\n",
       "      <td>NaN</td>\n",
       "    </tr>\n",
       "  </tbody>\n",
       "</table>\n",
       "</div>"
      ],
      "text/plain": [
       "                    name  imagenum1 imagenum2  Unnamed: 3\n",
       "0           Abel_Pacheco          1         4         NaN\n",
       "1         Akhmed_Zakayev          1         3         NaN\n",
       "2         Akhmed_Zakayev          2         3         NaN\n",
       "3          Amber_Tamblyn          1         2         NaN\n",
       "4  Anders_Fogh_Rasmussen          1         3         NaN"
      ]
     },
     "execution_count": 23,
     "metadata": {},
     "output_type": "execute_result"
    }
   ],
   "source": [
    "lfw_allnames = pd.read_csv('./data/lfw_allnames.csv')\n",
    "match_pairs_devTest = pd.read_csv('./data/matchpairsDevTest.csv')\n",
    "mismatch_pairs_devTest = pd.read_csv('./data/mismatchpairsDevTest.csv')\n",
    "match_pairs_devTrain = pd.read_csv('./data/matchpairsDevTrain.csv')\n",
    "mismatch_pairs_devTrain = pd.read_csv('./data/mismatchpairsDevTrain.csv')\n",
    "pairs = pd.read_csv('./data/pairs.csv')\n",
    "pairs.head()\n"
   ]
  },
  {
   "cell_type": "code",
   "execution_count": 24,
   "metadata": {},
   "outputs": [
    {
     "data": {
      "text/html": [
       "<div>\n",
       "<style scoped>\n",
       "    .dataframe tbody tr th:only-of-type {\n",
       "        vertical-align: middle;\n",
       "    }\n",
       "\n",
       "    .dataframe tbody tr th {\n",
       "        vertical-align: top;\n",
       "    }\n",
       "\n",
       "    .dataframe thead th {\n",
       "        text-align: right;\n",
       "    }\n",
       "</style>\n",
       "<table border=\"1\" class=\"dataframe\">\n",
       "  <thead>\n",
       "    <tr style=\"text-align: right;\">\n",
       "      <th></th>\n",
       "      <th>name1</th>\n",
       "      <th>imagenum1</th>\n",
       "      <th>imagenum2</th>\n",
       "    </tr>\n",
       "  </thead>\n",
       "  <tbody>\n",
       "    <tr>\n",
       "      <th>0</th>\n",
       "      <td>Abel_Pacheco</td>\n",
       "      <td>1</td>\n",
       "      <td>4</td>\n",
       "    </tr>\n",
       "    <tr>\n",
       "      <th>1</th>\n",
       "      <td>Akhmed_Zakayev</td>\n",
       "      <td>1</td>\n",
       "      <td>3</td>\n",
       "    </tr>\n",
       "    <tr>\n",
       "      <th>2</th>\n",
       "      <td>Akhmed_Zakayev</td>\n",
       "      <td>2</td>\n",
       "      <td>3</td>\n",
       "    </tr>\n",
       "    <tr>\n",
       "      <th>3</th>\n",
       "      <td>Amber_Tamblyn</td>\n",
       "      <td>1</td>\n",
       "      <td>2</td>\n",
       "    </tr>\n",
       "    <tr>\n",
       "      <th>4</th>\n",
       "      <td>Anders_Fogh_Rasmussen</td>\n",
       "      <td>1</td>\n",
       "      <td>3</td>\n",
       "    </tr>\n",
       "    <tr>\n",
       "      <th>...</th>\n",
       "      <td>...</td>\n",
       "      <td>...</td>\n",
       "      <td>...</td>\n",
       "    </tr>\n",
       "    <tr>\n",
       "      <th>5695</th>\n",
       "      <td>Vladimir_Voltchkov</td>\n",
       "      <td>1</td>\n",
       "      <td>2</td>\n",
       "    </tr>\n",
       "    <tr>\n",
       "      <th>5696</th>\n",
       "      <td>Wang_Yi</td>\n",
       "      <td>1</td>\n",
       "      <td>2</td>\n",
       "    </tr>\n",
       "    <tr>\n",
       "      <th>5697</th>\n",
       "      <td>Zafarullah_Khan_Jamali</td>\n",
       "      <td>1</td>\n",
       "      <td>2</td>\n",
       "    </tr>\n",
       "    <tr>\n",
       "      <th>5698</th>\n",
       "      <td>Zhu_Rongji</td>\n",
       "      <td>1</td>\n",
       "      <td>3</td>\n",
       "    </tr>\n",
       "    <tr>\n",
       "      <th>5699</th>\n",
       "      <td>Zhu_Rongji</td>\n",
       "      <td>2</td>\n",
       "      <td>8</td>\n",
       "    </tr>\n",
       "  </tbody>\n",
       "</table>\n",
       "<p>3000 rows × 3 columns</p>\n",
       "</div>"
      ],
      "text/plain": [
       "                       name1  imagenum1 imagenum2\n",
       "0               Abel_Pacheco          1         4\n",
       "1             Akhmed_Zakayev          1         3\n",
       "2             Akhmed_Zakayev          2         3\n",
       "3              Amber_Tamblyn          1         2\n",
       "4      Anders_Fogh_Rasmussen          1         3\n",
       "...                      ...        ...       ...\n",
       "5695      Vladimir_Voltchkov          1         2\n",
       "5696                 Wang_Yi          1         2\n",
       "5697  Zafarullah_Khan_Jamali          1         2\n",
       "5698              Zhu_Rongji          1         3\n",
       "5699              Zhu_Rongji          2         8\n",
       "\n",
       "[3000 rows x 3 columns]"
      ]
     },
     "execution_count": 24,
     "metadata": {},
     "output_type": "execute_result"
    }
   ],
   "source": [
    "# clean up tidy pairs \n",
    "\n",
    "pairs = pairs.rename(columns={'name':'name1', 'Unnamed: 3':'name2'})\n",
    "matched_pairs = pairs[pairs['name2'].isnull()].drop('name2', axis=1)\n",
    "matched_pairs"
   ]
  },
  {
   "cell_type": "code",
   "execution_count": 26,
   "metadata": {},
   "outputs": [
    {
     "data": {
      "text/html": [
       "<div>\n",
       "<style scoped>\n",
       "    .dataframe tbody tr th:only-of-type {\n",
       "        vertical-align: middle;\n",
       "    }\n",
       "\n",
       "    .dataframe tbody tr th {\n",
       "        vertical-align: top;\n",
       "    }\n",
       "\n",
       "    .dataframe thead th {\n",
       "        text-align: right;\n",
       "    }\n",
       "</style>\n",
       "<table border=\"1\" class=\"dataframe\">\n",
       "  <thead>\n",
       "    <tr style=\"text-align: right;\">\n",
       "      <th></th>\n",
       "      <th>name1</th>\n",
       "      <th>imagenum1</th>\n",
       "      <th>imagenum2</th>\n",
       "      <th>name2</th>\n",
       "    </tr>\n",
       "  </thead>\n",
       "  <tbody>\n",
       "    <tr>\n",
       "      <th>300</th>\n",
       "      <td>Abdel_Madi_Shabneh</td>\n",
       "      <td>1</td>\n",
       "      <td>Dean_Barker</td>\n",
       "      <td>1.0</td>\n",
       "    </tr>\n",
       "    <tr>\n",
       "      <th>301</th>\n",
       "      <td>Abdel_Madi_Shabneh</td>\n",
       "      <td>1</td>\n",
       "      <td>Giancarlo_Fisichella</td>\n",
       "      <td>1.0</td>\n",
       "    </tr>\n",
       "    <tr>\n",
       "      <th>302</th>\n",
       "      <td>Abdel_Madi_Shabneh</td>\n",
       "      <td>1</td>\n",
       "      <td>Mikhail_Gorbachev</td>\n",
       "      <td>1.0</td>\n",
       "    </tr>\n",
       "    <tr>\n",
       "      <th>303</th>\n",
       "      <td>Abdul_Rahman</td>\n",
       "      <td>1</td>\n",
       "      <td>Portia_de_Rossi</td>\n",
       "      <td>1.0</td>\n",
       "    </tr>\n",
       "    <tr>\n",
       "      <th>304</th>\n",
       "      <td>Abel_Pacheco</td>\n",
       "      <td>1</td>\n",
       "      <td>Jong_Thae_Hwa</td>\n",
       "      <td>2.0</td>\n",
       "    </tr>\n",
       "    <tr>\n",
       "      <th>...</th>\n",
       "      <td>...</td>\n",
       "      <td>...</td>\n",
       "      <td>...</td>\n",
       "      <td>...</td>\n",
       "    </tr>\n",
       "    <tr>\n",
       "      <th>5995</th>\n",
       "      <td>Scott_Wolf</td>\n",
       "      <td>2</td>\n",
       "      <td>Troy_Polamalu</td>\n",
       "      <td>1.0</td>\n",
       "    </tr>\n",
       "    <tr>\n",
       "      <th>5996</th>\n",
       "      <td>Sergei_Alexandrovitch_Ordzhonikidze</td>\n",
       "      <td>1</td>\n",
       "      <td>Yolanda_King</td>\n",
       "      <td>1.0</td>\n",
       "    </tr>\n",
       "    <tr>\n",
       "      <th>5997</th>\n",
       "      <td>Shane_Loux</td>\n",
       "      <td>1</td>\n",
       "      <td>Val_Ackerman</td>\n",
       "      <td>1.0</td>\n",
       "    </tr>\n",
       "    <tr>\n",
       "      <th>5998</th>\n",
       "      <td>Shawn_Marion</td>\n",
       "      <td>1</td>\n",
       "      <td>Shirley_Jones</td>\n",
       "      <td>1.0</td>\n",
       "    </tr>\n",
       "    <tr>\n",
       "      <th>5999</th>\n",
       "      <td>Slobodan_Milosevic</td>\n",
       "      <td>2</td>\n",
       "      <td>Sok_An</td>\n",
       "      <td>1.0</td>\n",
       "    </tr>\n",
       "  </tbody>\n",
       "</table>\n",
       "<p>3000 rows × 4 columns</p>\n",
       "</div>"
      ],
      "text/plain": [
       "                                    name1  imagenum1             imagenum2  \\\n",
       "300                    Abdel_Madi_Shabneh          1           Dean_Barker   \n",
       "301                    Abdel_Madi_Shabneh          1  Giancarlo_Fisichella   \n",
       "302                    Abdel_Madi_Shabneh          1     Mikhail_Gorbachev   \n",
       "303                          Abdul_Rahman          1       Portia_de_Rossi   \n",
       "304                          Abel_Pacheco          1         Jong_Thae_Hwa   \n",
       "...                                   ...        ...                   ...   \n",
       "5995                           Scott_Wolf          2         Troy_Polamalu   \n",
       "5996  Sergei_Alexandrovitch_Ordzhonikidze          1          Yolanda_King   \n",
       "5997                           Shane_Loux          1          Val_Ackerman   \n",
       "5998                         Shawn_Marion          1         Shirley_Jones   \n",
       "5999                   Slobodan_Milosevic          2                Sok_An   \n",
       "\n",
       "      name2  \n",
       "300     1.0  \n",
       "301     1.0  \n",
       "302     1.0  \n",
       "303     1.0  \n",
       "304     2.0  \n",
       "...     ...  \n",
       "5995    1.0  \n",
       "5996    1.0  \n",
       "5997    1.0  \n",
       "5998    1.0  \n",
       "5999    1.0  \n",
       "\n",
       "[3000 rows x 4 columns]"
      ]
     },
     "execution_count": 26,
     "metadata": {},
     "output_type": "execute_result"
    }
   ],
   "source": [
    "mismatched_pairs = pairs[pairs['name2'].notnull()]\n",
    "mismatched_pairs"
   ]
  },
  {
   "cell_type": "code",
   "execution_count": 7,
   "metadata": {},
   "outputs": [
    {
     "data": {
      "text/plain": [
       "dict_keys(['data', 'pairs', 'target', 'target_names', 'DESCR'])"
      ]
     },
     "execution_count": 7,
     "metadata": {},
     "output_type": "execute_result"
    }
   ],
   "source": [
    "images.keys()"
   ]
  },
  {
   "cell_type": "code",
   "execution_count": null,
   "metadata": {},
   "outputs": [],
   "source": []
  }
 ],
 "metadata": {
  "kernelspec": {
   "display_name": "Python 3",
   "language": "python",
   "name": "python3"
  },
  "language_info": {
   "codemirror_mode": {
    "name": "ipython",
    "version": 3
   },
   "file_extension": ".py",
   "mimetype": "text/x-python",
   "name": "python",
   "nbconvert_exporter": "python",
   "pygments_lexer": "ipython3",
   "version": "3.10.1"
  }
 },
 "nbformat": 4,
 "nbformat_minor": 2
}
